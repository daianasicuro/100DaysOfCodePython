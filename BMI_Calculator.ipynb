{
 "cells": [
  {
   "cell_type": "code",
   "execution_count": 1,
   "id": "f884dfaf",
   "metadata": {},
   "outputs": [
    {
     "name": "stdout",
     "output_type": "stream",
     "text": [
      "enter your height in m: 1.59\n",
      "enter your weight in kg: 55\n"
     ]
    }
   ],
   "source": [
    "height = input(\"enter your height in m: \")\n",
    "weight = input(\"enter your weight in kg: \")"
   ]
  },
  {
   "cell_type": "code",
   "execution_count": 2,
   "id": "b9a0dd95",
   "metadata": {},
   "outputs": [],
   "source": [
    "# Convert to a float\n",
    "height_1= float(height)\n",
    "weight_1 = float(weight)"
   ]
  },
  {
   "cell_type": "code",
   "execution_count": 3,
   "id": "fb6dda36",
   "metadata": {},
   "outputs": [
    {
     "name": "stdout",
     "output_type": "stream",
     "text": [
      "Your Bmi is: 22\n"
     ]
    }
   ],
   "source": [
    "#Operation to find Bmi\n",
    "\n",
    "Bmi= round(weight_1 / height_1**2)\n",
    "print('Your Bmi is: ' + str(Bmi))"
   ]
  },
  {
   "cell_type": "code",
   "execution_count": 4,
   "id": "9754f0c7",
   "metadata": {},
   "outputs": [
    {
     "name": "stdout",
     "output_type": "stream",
     "text": [
      "Normal weight\n"
     ]
    }
   ],
   "source": [
    "# Conditional to print the results\n",
    "\n",
    "if Bmi < 18.5:\n",
    " print(\"Underweight\")\n",
    "\n",
    "elif Bmi >= 18.5 and Bmi < 25:\n",
    " print('Normal weight')\n",
    "\n",
    "elif Bmi >=25 and Bmi < 30:\n",
    " print('Overweight')\n",
    "  \n",
    "elif Bmi >=30:\n",
    " print('Obese')\n"
   ]
  }
 ],
 "metadata": {
  "kernelspec": {
   "display_name": "Python 3",
   "language": "python",
   "name": "python3"
  },
  "language_info": {
   "codemirror_mode": {
    "name": "ipython",
    "version": 3
   },
   "file_extension": ".py",
   "mimetype": "text/x-python",
   "name": "python",
   "nbconvert_exporter": "python",
   "pygments_lexer": "ipython3",
   "version": "3.8.8"
  },
  "toc": {
   "base_numbering": 1,
   "nav_menu": {},
   "number_sections": true,
   "sideBar": true,
   "skip_h1_title": false,
   "title_cell": "Table of Contents",
   "title_sidebar": "Contents",
   "toc_cell": false,
   "toc_position": {},
   "toc_section_display": true,
   "toc_window_display": false
  }
 },
 "nbformat": 4,
 "nbformat_minor": 5
}
