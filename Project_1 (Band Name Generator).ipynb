{
 "cells": [
  {
   "cell_type": "code",
   "execution_count": 6,
   "id": "9347de06",
   "metadata": {},
   "outputs": [
    {
     "name": "stdout",
     "output_type": "stream",
     "text": [
      "Welcome to the Band Name Generator.\n"
     ]
    }
   ],
   "source": [
    "#1. Create a greeting for your program.\n",
    "print('Welcome to the Band Name Generator.')"
   ]
  },
  {
   "cell_type": "code",
   "execution_count": 7,
   "id": "3888a6f6",
   "metadata": {},
   "outputs": [
    {
     "name": "stdout",
     "output_type": "stream",
     "text": [
      "What's name of the city you grew up in?\n",
      "Rio de Janeiro\n"
     ]
    }
   ],
   "source": [
    "#2. Ask the user for the city that they grew up in.\n",
    "City= input(\"What's name of the city you grew up in?\\n\")"
   ]
  },
  {
   "cell_type": "code",
   "execution_count": 8,
   "id": "ed8888af",
   "metadata": {},
   "outputs": [
    {
     "name": "stdout",
     "output_type": "stream",
     "text": [
      "What's your pet's name?\n",
      "Marley\n"
     ]
    }
   ],
   "source": [
    "#3. Ask the user for the name of a pet.\n",
    "Pet= input(\"What's your pet's name?\\n\")"
   ]
  },
  {
   "cell_type": "code",
   "execution_count": 9,
   "id": "02fa5de0",
   "metadata": {},
   "outputs": [
    {
     "name": "stdout",
     "output_type": "stream",
     "text": [
      "Your band name could be Rio de Janeiro Marley\n"
     ]
    }
   ],
   "source": [
    "#4. Combine the name of their city and pet and show them their band name.\n",
    "print('Your band name could be ' + City + \" \" + Pet)"
   ]
  }
 ],
 "metadata": {
  "kernelspec": {
   "display_name": "Python 3",
   "language": "python",
   "name": "python3"
  },
  "language_info": {
   "codemirror_mode": {
    "name": "ipython",
    "version": 3
   },
   "file_extension": ".py",
   "mimetype": "text/x-python",
   "name": "python",
   "nbconvert_exporter": "python",
   "pygments_lexer": "ipython3",
   "version": "3.8.8"
  },
  "toc": {
   "base_numbering": 1,
   "nav_menu": {},
   "number_sections": true,
   "sideBar": true,
   "skip_h1_title": false,
   "title_cell": "Table of Contents",
   "title_sidebar": "Contents",
   "toc_cell": false,
   "toc_position": {},
   "toc_section_display": true,
   "toc_window_display": false
  }
 },
 "nbformat": 4,
 "nbformat_minor": 5
}
